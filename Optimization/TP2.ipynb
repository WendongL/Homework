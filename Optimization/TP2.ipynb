{
 "cells": [
  {
   "cell_type": "markdown",
   "metadata": {},
   "source": [
    "Miguel Colom  \n",
    "Rafael Grompone von Gioi  \n",
    "Argyris Kalogeratos\n",
    "\n",
    "TP2 : Optimisation Numérique  \n",
    "Première Année Master Hadamard\n",
    "\n",
    "# <center>Quasi-Newton methods and constrained optimization</center>\n",
    "\n",
    "##  À savoir avant de commencer :\n",
    "  * Vous pouvez préparer votre livrable en français ou en anglais.  \n",
    "  \n",
    "  * Justifiez de manière appropriée les solutions proposées dans le notebook en tant que réponses. Évitez d'ajouter un code qui n'est pas expliqué. Le notebook livré est la combinaison de code et de réponses bien élaborées.\n",
    "\n",
    "  *  Prenez-garde à ce que votre code compile correctement et ne dépende pas d'autres modules que ceux indiqués dans le TP.\n",
    "\n",
    "  *  Lorsque vous comparez plusieurs graphiques, veuillez utiliser la même figure. Ne créez pas de nouvelle figure pour chaque graphique.\n",
    "  \n",
    "  * Ajoutez chaque réponse juste en dessous de chaque question. Là, vous pouvez creer plusieur \"cells\" de code, de résultats/figures, ou de comentaires.\n",
    "\n",
    "  *  $\\rightarrow$ **Seuls les devoirs rendus sur eCampus sont acceptés!** Ils ne doivent jamais être envoyés par mail aux responsables des TP.\n",
    "Veuillez vous assurer que votre accès à eCampus fonctionne correctement. Si ce n'est pas le cas, veuillez contacter immédiatement les responsables pédagogiques ou informatiques.\n",
    "\n",
    "Remarque : la plupart du temps on n'implémente pas les méthodes classiques présentées dans ce TP et on utilise des paquets du type ``scipy``. Néanmoins, il convient de savoir ce que contienne ces _boîtes noires_ et de se forger une intuition sur les différentes méthodes d'optimisation."
   ]
  },
  {
   "cell_type": "code",
   "execution_count": 8,
   "metadata": {},
   "outputs": [],
   "source": [
    "# Import basic packages\n",
    "import numpy as np\n",
    "import numpy.random as rnd\n",
    "import matplotlib.pyplot as plt"
   ]
  },
  {
   "cell_type": "markdown",
   "metadata": {},
   "source": [
    "# Application of a quasi-Newton method with the Broyden-Fletcher-Goldfarb-Shanno (BFGS) correction (10pt)\n",
    "\n",
    "In this exercise we will use the quasi-Newton method to solve a simple prediction problem. Moreover, you will verify experimentally that the BFGS correction allows to converge faster to a minimum.\n",
    "\n",
    "Let's imagine that we are data scientists working in a bank and we would like to know if it would be good idea to grant or not a loan to a new client acc\n",
    "ording to the expected risk of not being paid back. The bank keeps a record of previous requests of clients, so there are collected data that are availab\n",
    "le. In this exercise, the dataset comes from the [UCI German Dataset](https://archive.ics.uci.edu/ml/datasets/statlog+(german+credit+data)).\n",
    "\n",
    "The German dataset has one individual client per row, whose recorded request is\n",
    "described by several attributes. Examples of attributes are: how many years\n",
    "unemployed, the purpose of the credit (e.g. to buy a new car, repairs,\n",
    "vacation...), age, etc. The last column tells if granting the credit to the\n",
    "client was a good choice (for the bank...) or not. The aim is to learn the way\n",
    "financial experts have decided for past cases in order to be able to\n",
    "automatically answer for future requests.\n",
    "\n",
    "We will consider a function (usually known as the _loss function_ in the machine learning context) that takes as parameters the attributes of a clie\n",
    "nt and makes a binary prediction (the bank should grant the loan, or the bank should not). We can formalize the evaluation of the function as a simple do\n",
    "t product: $$x^\\top \\omega,$$ where $x$ is the vector with the attributes of a request and $\\omega$ is the vector with the coefficients of the loss funct\n",
    "ion we want to minimize.\n",
    "\n",
    "As typical in the field of machine learning, we will consider a _training_ dataset that will be used to \"train\" our model and a _test_ dataset to later evaluate our trained model. During the training phase, we will apply the quasi-Newton method to effectively learn coefficients in $\\omega$ tha\n",
    "t minimize the loss function. Once this coefficients have been learned, we will evaluate the function with the test dataset.\n",
    "\n",
    "Here we consider a \"logistic loss\" function which is implemented by the following class. The details are beyond the scope of this exercise, and you may think from now on that your objective is simply to minimize this function."
   ]
  },
  {
   "cell_type": "code",
   "execution_count": null,
   "metadata": {},
   "outputs": [],
   "source": [
    "class LogisticLoss():\n",
    "    def __init__(self, x_train, y_train, x_test, y_test, reg=10**-2):\n",
    "        '''\n",
    "        Constructor\n",
    "        '''\n",
    "        self.x_train = x_train\n",
    "        self.y_train = y_train\n",
    "        #\n",
    "        self.x_test = x_test\n",
    "        self.y_test = y_test\n",
    "        #\n",
    "        self.reg = reg\n",
    "        self.ndim = x_train.shape[0]\n",
    "    \n",
    "    def sigmoid(self, x):\n",
    "        '''\n",
    "        Sigmoid function\n",
    "        '''\n",
    "        return 1 / (1 + np.exp(-x))\n",
    "    \n",
    "    def logistic_function(self, x):\n",
    "        '''\n",
    "        Logistic function (single value)\n",
    "        '''\n",
    "        return np.log(1 + np.exp(-x))\n",
    "    \n",
    "    def evaluate(self, omega, x):\n",
    "        '''\n",
    "        Evaluate function omega at x\n",
    "        '''\n",
    "        return x.dot(omega)\n",
    "\n",
    "    def log_fun(self, omega):\n",
    "        '''\n",
    "        Logistic loss of function omega in the training set\n",
    "        '''\n",
    "        scal = self.evaluate(omega, x_train)\n",
    "        val = self.y_train * scal\n",
    "        loss_n = self.logistic_function(val)\n",
    "        loss = np.sum(loss_n, 0)\n",
    "        return (loss + self.reg * np.linalg.norm(omega)**2) / self.ndim\n",
    "\n",
    "    def log_der(self, omega):\n",
    "        '''\n",
    "        Derivative of the logistic function\n",
    "        '''\n",
    "        scal = self.evaluate(omega, x_train)\n",
    "        val = - self.y_train * scal\n",
    "        grad = - self.y_train * self.sigmoid(val) * self.x_train\n",
    "        grad = np.reshape(np.sum(grad, 0), omega.shape)\n",
    "        return (grad + 2 * self.reg * omega) / self.ndim\n",
    "\n",
    "    def score(self, x, y, omega):\n",
    "        '''\n",
    "        Score with a set (x, y) and a function omega\n",
    "        '''\n",
    "        omega = np.reshape(omega, (x.shape[1], 1))\n",
    "        # x dot omega = evaluate function omega at x\n",
    "        scal = x.dot(omega)\n",
    "        # Point-wise multiplication of omega(x) and y.\n",
    "        # Same sign ==> >0. Different sign ==> <0\n",
    "        val = y * scal\n",
    "        # Count how many with the same sign (correct answers)\n",
    "        res = np.sum(val > 0)\n",
    "        success = res / len(val)\n",
    "        return success\n",
    "\n",
    "    def score_train(self, omega):\n",
    "        '''\n",
    "        Score with the training set and a function omega\n",
    "        '''\n",
    "        return self.score(x_train, y_train, omega)\n",
    "\n",
    "    def score_test(self, omega):\n",
    "        '''\n",
    "        Score with the test set and a function omega\n",
    "        '''\n",
    "        return self.score(x_test, y_test, omega)"
   ]
  },
  {
   "cell_type": "markdown",
   "metadata": {},
   "source": [
    "The class contains functions to apply the loss function (``log_fun``) and also its gradient (``log_der``)."
   ]
  },
  {
   "cell_type": "markdown",
   "metadata": {},
   "source": [
    "1) Load the German dataset as"
   ]
  },
  {
   "cell_type": "code",
   "execution_count": null,
   "metadata": {},
   "outputs": [],
   "source": [
    "data = np.genfromtxt('german.data-numeric.txt')"
   ]
  },
  {
   "cell_type": "markdown",
   "metadata": {},
   "source": [
    "It is a matrix with 1000 rows (the clients) and 25 columns (the attributes). You can download it from [here](http://mcolom.info/data/tps/optimisation/german.data-numeric.txt) into the working directory."
   ]
  },
  {
   "cell_type": "markdown",
   "metadata": {},
   "source": [
    "2) We consider that the first 24 columns will be the input of the loss function and that the last column is the variable we intend to predict, also called _class label_. Let's call $X$ the attributes and $Y$ the class label. We need that a label takes a values in {-1, +1}, so we need to change the range. Execute this code for this purpose and check that the matrices have proper dimensions. Check also that $Y$ contains only values of -1 or +1."
   ]
  },
  {
   "cell_type": "code",
   "execution_count": null,
   "metadata": {},
   "outputs": [],
   "source": [
    "X = data[:, 0:-1] # The first 24 columns are the attributes\n",
    "Y = data[:, -1]   # The last one the label\n",
    "Y = (Y - 1.5) * 2 # Values -1 or +1"
   ]
  },
  {
   "cell_type": "markdown",
   "metadata": {},
   "source": [
    "3) Now we will split our dataset into a training set and a test set using a percentage (for example, 20%). The first 20% of the data will belong to the test dataset and the rest will be used for training. In order that the data is randomly distributed, shuffle the rows of the array first. Implement the missing (``<TODO>``) parts:"
   ]
  },
  {
   "cell_type": "code",
   "execution_count": null,
   "metadata": {},
   "outputs": [],
   "source": [
    "np.random.seed(12345) # Reproducibility\n",
    "\n",
    "perc = 20\n",
    "nb = int(X.shape[0] * perc / 100)\n",
    "<TODO> # Shuffle the input data\n",
    "x_test,  y_test =  <TODO>\n",
    "x_train, y_train = <TODO>\n",
    "y_train = np.reshape(y_train, (len(y_train), 1))\n",
    "y_test = np.reshape(y_test, (len(y_test), 1))"
   ]
  },
  {
   "cell_type": "markdown",
   "metadata": {},
   "source": [
    "4) Now it is time to create the logistic regression object and to initialize the coefficients of the loss function with random values. Use this code:"
   ]
  },
  {
   "cell_type": "code",
   "execution_count": null,
   "metadata": {},
   "outputs": [],
   "source": [
    "ll = LogisticLoss(x_train, y_train, x_test, y_test)\n",
    "omega = np.random.randn(x_train.shape[1], 1) / np.sqrt(x_train.shape[1])"
   ]
  },
  {
   "cell_type": "markdown",
   "metadata": {},
   "source": [
    "And define the following variables:"
   ]
  },
  {
   "cell_type": "code",
   "execution_count": null,
   "metadata": {},
   "outputs": [],
   "source": [
    "error_point = 10**-10\n",
    "error_grad = 10**-10\n",
    "iterations = 10**3"
   ]
  },
  {
   "cell_type": "markdown",
   "metadata": {},
   "source": [
    "5) Implement the BFGS correction by completing the missing parts in the following function."
   ]
  },
  {
   "cell_type": "code",
   "execution_count": null,
   "metadata": {},
   "outputs": [],
   "source": [
    "def update_bfgs(H, x_old, x, g_x_old, g_x):\n",
    "    '''\n",
    "    BFGS matrix H update\n",
    "    '''\n",
    "    ndim = x.shape[0]\n",
    "    s = np.reshape(x - x_old, (ndim, 1))\n",
    "    y = np.reshape(g_x - g_x_old, (ndim, 1))\n",
    "\n",
    "    B = <TODO>\n",
    "    return B"
   ]
  },
  {
   "cell_type": "markdown",
   "metadata": {},
   "source": [
    "6) Implement the quasi-Newton method by completing the missing parts in the following function."
   ]
  },
  {
   "cell_type": "code",
   "execution_count": null,
   "metadata": {},
   "outputs": [],
   "source": [
    "def quasi_newton(f, grad, x0, iterations, error_point, error_grad, hstep, use_bfgs):\n",
    "    dim = np.max(x0.shape)\n",
    "\n",
    "    x_list, f_list = np.zeros([dim, iterations]), np.zeros(iterations)\n",
    "    error_point_list, error_grad_list = [], []\n",
    "\n",
    "    <TODO>\n",
    "\n",
    "    H = np.eye(dim)\n",
    "\n",
    "    for i in range(iterations):\n",
    "        x = x + <TODO>\n",
    "        if use_bfgs:\n",
    "            H = H + update_bfgs(<TODO>)\n",
    "\n",
    "        <TODO>\n",
    "                                        \n",
    "        x_list[:, i] = np.reshape(x, -1)\n",
    "        f_list[i] = f_x\n",
    "\n",
    "        err, err_grad = np.linalg.norm(x - x_old), np.linalg.norm(grad(x))\n",
    "        error_point_list.append(err)\n",
    "        error_grad_list.append(err_grad)\n",
    "\n",
    "        if <TODO> # termination condition\n",
    "            break\n",
    "                                        \n",
    "        x_old = np.copy(x)\n",
    "\n",
    "    return {'x_list': x_list[:, 0:i], 'f_list': f_list[0:i], 'error_point_list': error_point_list}"
   ]
  },
  {
   "cell_type": "markdown",
   "metadata": {},
   "source": [
    "The parameters of the above method are:\n",
    "- ``f``: the loss function we want to minimize\n",
    "- ``grad``: the gradient of the loss function\n",
    "- ``x0``: initial solution to start from\n",
    "- ``iterations``: maximum number of iterations to perform\n",
    "- ``error_point``: used in the condition to stop iterating, when the norm between two consecutive solutions is below this threshold\n",
    "- ``error_grad``: similar to the previous, but for the gradient\n",
    "- ``hstep``: the fixed step size to use\n",
    "- ``use_bfgs``: flag to use the BFGS correction"
   ]
  },
  {
   "cell_type": "markdown",
   "metadata": {},
   "source": [
    "7) Run the optimization with and without BFGS:"
   ]
  },
  {
   "cell_type": "code",
   "execution_count": null,
   "metadata": {},
   "outputs": [],
   "source": [
    "hstep = <TODO>  # set a proper fixed step size\n",
    "\n",
    "res_without_bfgs = quasi_newton(ll.log_fun, ll.log_der, omega, iterations, error_point, error_grad, hstep, False)\n",
    "\n",
    "res_with_bfgs = quasi_newton(ll.log_fun, ll.log_der, omega, iterations, error_point, error_grad, hstep, True)"
   ]
  },
  {
   "cell_type": "markdown",
   "metadata": {},
   "source": []
  },
  {
   "cell_type": "markdown",
   "metadata": {},
   "source": [
    "8) You can print some metrics. For example:"
   ]
  },
  {
   "cell_type": "code",
   "execution_count": null,
   "metadata": {},
   "outputs": [],
   "source": [
    "for use_bfgs in (False, True):\n",
    "    print(f'*** Using BFGS: {use_bfgs}')\n",
    "    result = res_with_bfgs if use_bfgs else res_without_bfgs\n",
    "    iterations = result['iterations']\n",
    "    print(f'Number iterations: {iterations}')\n",
    "\n",
    "    print(f'Start value and end value of function: {result['f_list'][0]}, {result['f_list'][-1]}')\n",
    "\n",
    "    print(f'Training score. Initial: {ll.score_train(result['x_list'][:, 0])}. Final: {ll.score_train(result['x_list'][:, -1])}')\n",
    "\n",
    "    print(f'Testing score. Initial: {ll.score_test(result['x_list'][:, 0])}. Final: {ll.score_test(result['x_list'][:, -1])}')\n",
    "    print()"
   ]
  },
  {
   "cell_type": "markdown",
   "metadata": {},
   "source": [
    "You should see that the method using the BFGS correction needs less iterations to reach an acceptable solution."
   ]
  },
  {
   "cell_type": "markdown",
   "metadata": {},
   "source": []
  },
  {
   "cell_type": "markdown",
   "metadata": {},
   "source": [
    "9) Finally, plot the errors at each iteration. Define the following function and call it to create the two plots (corresponding to ``error_point_list`` and ``error_grad_list``)."
   ]
  },
  {
   "cell_type": "code",
   "execution_count": null,
   "metadata": {},
   "outputs": [],
   "source": [
    "def save_error_figure(res_with_bfgs, res_without_bfgs, error, labels):\n",
    "    '''\n",
    "    Save a plot of the error along the iterations comparing the\n",
    "    optimization with and without BFGS.\n",
    "    '''\n",
    "    iterations = res_without_bfgs['iterations']\n",
    "    iterations_bfgs = res_with_bfgs['iterations']\n",
    "\n",
    "    plt.figure()\n",
    "    plt.plot(res_with_bfgs[error], label=labels['with'])\n",
    "    plt.plot(res_without_bfgs[error], label=labels['without'])\n",
    "    plt.axvline(x=iterations, linestyle=':')\n",
    "    plt.axvline(x=iterations_bfgs, linestyle='--')\n",
    "    plt.xlabel('Iteration')\n",
    "    plt.ylabel('Error')\n",
    "    plt.legend()\n",
    "    plt.grid()\n",
    "    plt.savefig(error + '.pdf')"
   ]
  },
  {
   "attachments": {
    "error.png": {
     "image/png": "[encoded data removed]"
    }
   },
   "cell_type": "markdown",
   "metadata": {},
   "source": [
    "You should observe plots similar to the ones below, where the number of iterations is significantly smaller:\n",
    "\n",
    "![error.png](attachment:error.png)\n",
    "\n",
    "The error between two consecutive solutions and gradient error (both computed by the L2 norm), with BFGS and without (standard gradient descent). The vertical lines correspond to the number of iterations performed up to convergence (dashed line for BFGS, and dotted line otherwise).\n"
   ]
  },
  {
   "cell_type": "markdown",
   "metadata": {},
   "source": []
  },
  {
   "cell_type": "markdown",
   "metadata": {},
   "source": [
    "10) Which are in your opinion the main advantages and disadvantages of using BFGS?"
   ]
  },
  {
   "cell_type": "markdown",
   "metadata": {},
   "source": []
  },
  {
   "cell_type": "markdown",
   "metadata": {},
   "source": [
    "# Constrained optimization (10pt)\n",
    "\n",
    "## Functions\n",
    "\n",
    "### Rosenbrock's banana\n",
    "\n",
    "We start from the functions we used in the TP 1. Consider again the Rosenbrock's banana with $f: \\mathbb{R}^2 \\rightarrow \\mathbb{R}: f(x_1,x_2) = (x_1-1)^2 + 100\\, (x_1^2-x_2)^2$. Recall that $f \\in \\mathcal{C}^1(\\mathbb{R}^2, \\mathbb{R})$ is positive with a unique minimum at $x^* = (1,1)$, where $f(x^*) = 0$. The python code for the function and its gradient follows.\n"
   ]
  },
  {
   "cell_type": "code",
   "execution_count": null,
   "metadata": {},
   "outputs": [],
   "source": [
    "## Rosenbrock function and its gradient\n",
    "\n",
    "def rosenbrock(x):\n",
    "    y = np.asarray(x)\n",
    "    return (y[0] - 1)**2 + 100 * (y[1] - y[0]**2)**2\n",
    "\n",
    "def rosenbrock_grad(x):\n",
    "    y = np.asarray(x)\n",
    "    grad = np.zeros_like(y)\n",
    "    grad[0] = 400 * y[0] * (y[0]**2 - y[1]) + 2 * (y[0] - 1)\n",
    "    grad[1] = 200 * (y[1] - y[0]**2)\n",
    "    return grad"
   ]
  },
  {
   "cell_type": "markdown",
   "metadata": {},
   "source": [
    "### 2D Quadratic function\n",
    "\n",
    "Recall also the quadratic function $f: \\mathbb{R}^2 \\rightarrow \\mathbb{R}: f(x) = x^T A x$, with $A$ a diagonal matrix such that $A_{1,1} = m^2$, $A_{2,2} = M^2$, $(M,m) \\in {\\mathbb{R}_+^*}^2$, and all the other coefficients of the diagonal fixed to $1$. $f$ is strictly convex coercive and has a unique minimum at $0$. The python code for this function and its gradient follows."
   ]
  },
  {
   "cell_type": "code",
   "execution_count": null,
   "metadata": {},
   "outputs": [],
   "source": [
    "def mk_quad(m, M, ndim=2):\n",
    "  ## Quadratic function and its gradient\n",
    "    def quad(x):\n",
    "        y = np.copy(np.asarray(x))\n",
    "        assert ndim == np.max(y.shape), \"quad: wrong input dimension\"\n",
    "        scal = np.ones(y.shape)\n",
    "        scal[0] = m\n",
    "        scal[1] = M\n",
    "        y *= scal\n",
    "        return np.sum(y**2, 0)\n",
    "\n",
    "    def quad_grad(x):\n",
    "        y = np.asarray(x)\n",
    "        assert ndim == np.max(y.shape), \"quad_grad: wrong input dimension\"\n",
    "        scal = np.ones(y.shape)\n",
    "        scal[0] = m ** 2\n",
    "        scal[1] = M ** 2\n",
    "        return 2 * scal * y\n",
    "\n",
    "    return quad, quad_grad"
   ]
  },
  {
   "attachments": {
    "pgd_s.png": {
     "image/png": "[encoded data removed]"
    }
   },
   "cell_type": "markdown",
   "metadata": {},
   "source": [
    "## Projected gradient descent\n",
    "\n",
    "![pgd_s.png](attachment:pgd_s.png)\n",
    "\n",
    "Unconstrained optimization is straightforward to deploy. But, what happens when\n",
    "there are constraints? The main idea behind projected gradient descent (PGD) is\n",
    "to make sure that the point reached at each optimization step is _feasible_\n",
    "or _valid_, i.e. satisfies a given set of rules. Since this cannot be\n",
    "guaranteed by the standard Gradient Descent (GD) method, a solution to achieve\n",
    "it is by projecting an infeasible point reached at an optimization step back to\n",
    "the feasible set $\\mathcal{X}$. A representation with an elliptic feasible set\n",
    "is shown on the left. Note that, depending on the complexity of the problem, it\n",
    "may be only possible to approximate the best projection point (shown with dotted\n",
    "line in the figure) rather than finding it exactly.\n",
    "\n",
    "### Feasible set in an Euclidean ball\n",
    "\n",
    "Suppose that the feasible set $\\mathcal{X}$ of our interest can be identified inside a multidimensional Euclidean ball. Assuming a center $c \\in \\mathbb{R}^n$ and a radius $r \\in \\mathbb{R}$, such a ball is defined as: \n",
    "\\begin{equation}\\label{eq:ball}\n",
    "f_{c,r}: \\mathbb{R}^n \\rightarrow \\mathbb{R}: f_{c,r}(x) = \\| x - c \\|^2 - r^2. \n",
    "\\end{equation}\n",
    "Note that $f$ is negative for all points farther than $r$ from the center $c$, thus we can write directly $\\mathcal{X} = \\{\\forall x\\in\\mathbb{R}^n: f_{c,r}(x,c) \\leq 0\\}$.\n",
    "\n",
    "The most complicated part of this approach is to compute the \\emph{projection step}. In the discussed case: for any given point $x\\in \\mathbb{R}^n$, the projection operator $\\text{proj}_\\mathcal{X}(x)$ can be defined as:\n",
    "\\begin{equation}\n",
    "\\text{proj}_\\mathcal{X}(x) =                    \n",
    "\\left\\{\n",
    "\\begin{array}{ll}\n",
    "      x, & f_{c,r}(x) \\leq 0, \\\\\n",
    "      \\mathrm{argmin}_{x'\\in\\mathcal{X}} ||x-x'||, & f_{c,r}(x) > 0.\n",
    "\\end{array} \n",
    "\\right. \n",
    "\\end{equation}\n",
    "More specifically, the second branch computes the properly projected $x'$ as: \n",
    "\\begin{equation}\n",
    "x' = c + r \\frac{x - c}{||x - c||}.\n",
    "\\end{equation}\n",
    "The python code that follows describes the main constraint elements needed by the PDG. Implement the missing (``<TODO>``) parts."
   ]
  },
  {
   "cell_type": "code",
   "execution_count": null,
   "metadata": {},
   "outputs": [],
   "source": [
    "# Feasible set in an Euclidean ball\n",
    "\n",
    "def ball_constraint(center, radius):\n",
    "    def ball(x):         # the ball function\n",
    "        <TODO>\n",
    "\n",
    "    def ball_grad(x):    # the ball gradient\n",
    "        <TODO>\n",
    "\n",
    "    def ball_proj(x):    # the projection on the ball\n",
    "        <TODO>\n",
    "\n",
    "    return ball, ball_grad, ball_proj"
   ]
  },
  {
   "cell_type": "markdown",
   "metadata": {},
   "source": [
    "### Implementation of the PGD\n",
    "\n",
    "Now, it's time to implement this iterative method in the following function. It has the same inputs as in the previous exercise), with the additional {\\tt constraint\\_proj} which is the $\\text{proj}_\\mathcal{X}$ projection operator. Implement also a termination rule combining the distance $||x_{k-1} - x_k||$ and the norm of the gradient $||\\nabla f(x_{k})||$ (using respectively the threshold pars: ``error_point``, ``error_grad``)."
   ]
  },
  {
   "cell_type": "code",
   "execution_count": null,
   "metadata": {},
   "outputs": [],
   "source": [
    "# Projected gradient descend method\n",
    "\n",
    "def proj_grad(f, grad, x0, iterations, error_point, error_grad, constraint_proj, hstep):\n",
    "    # Memory allocation\n",
    "    dim = np.max(np.shape(x0))               # dimensions of the space\n",
    "    x_list = np.zeros([dim, iterations])     # solution at each iteration\n",
    "    f_list = np.zeros(iterations)            # f. value at each solution point\n",
    "    error_point_list = np.zeros(iterations)  # error of solutions\n",
    "    error_grad_list = np.zeros(iterations)   # error of the gradient\n",
    "    \n",
    "    # Initialization\n",
    "    x = x0                     \n",
    "    x_old = np.copy(x)\n",
    "    grad_x = grad(x)\n",
    "    d_x = -grad_x\n",
    "    f_x = f(x)\n",
    "    \n",
    "    # Iterative optimization\n",
    "    for i in range(iterations):\n",
    "        <TODO>\n",
    "    \n",
    "        # Log results\n",
    "        x_list[:, i] = np.reshape(x, -1)\n",
    "        f_list[i] = f_x\n",
    "        error_point_list[i] = np.linalg.norm(x - x_old)\n",
    "        error_grad_list[i] = np.linalg.norm(grad(x))\n",
    "\n",
    "        if <TODO>     # termination condition\n",
    "            break\n",
    "        x_old = np.copy(x)\n",
    "\n",
    "    return {'x_list': x_list[:, 0:i], 'f_list': f_list[0:i], 'error_point_list': error_point_list[0:i], 'error_grad_list': error_grad_list[0:i]}"
   ]
  },
  {
   "attachments": {
    "penalty_s.png": {
     "image/png": "[encoded data removed]"
    }
   },
   "cell_type": "markdown",
   "metadata": {},
   "source": [
    "## Augmented Lagrangian-like methods\n",
    "\n",
    "This class of methods replaces a constrained optimization problem by a series of unconstrained problems. It also adds a penalty term to the Lagrangian objective (augmentation) based on a non-negative and continuous penalty function. For the case of minimization, the penalty term would get low values (up to zero) for a solution that respects the constraints (i.e. $x \\in \\mathcal{X})$, and would contrary get higher values the more the solutions violate the constraints. \n",
    "\n",
    "Algorithmically, the basic idea is that we can start with an unconstrained problem defined by a mild penalty term, the solution of which can be the initial point for a successive unconstrained problem with stricter penalty term. Continuing this process, while also making more strict the penalty, leads to solutions that respect the constraints more and more, and the method finally converges. With proper simplifications, we describe below the penalty and the barrier methods that can be seen as simple cases following this strategy.\n",
    "\n",
    "### Penalty method\n",
    "\n",
    "We can write the penalty problem $P$ of round $i$ with a parameter $\\sigma_i > 0$ as:\n",
    "\\begin{equation}\\label{eq:main}\n",
    "P(\\sigma_i): \\min_x \\left\\lbrace f(x) + \\sigma_i \\, p(x) \\right\\rbrace,\n",
    "\\end{equation}\n",
    "where $\\sigma_i \\, p(x)$ is the _penalty term_, $p(x)$ is the _external penalty function_ and $\\sigma_i$ its _penalty coefficient_. For large $\\sigma_i$ the minimizer of the problem $P(\\sigma_i)$ will be in a region in which $p(x)$ is small and thus the constraints are respected. As explained, the method deploys successively: a series of (inner or sub) iterations are performed with a fixed $\\sigma$ and the solution is fed to the next round that will use an updated $\\sigma_{i+1}$. As $\\sigma \\rightarrow \\infty$, the solution of the penalty problem $P(\\sigma)$ will converge to a solution of the original constrained problem. An illustration of this process is shown in the figure below.\n",
    "\n",
    "![penalty_s.png](attachment:penalty_s.png)\n",
    "\n",
    "In practice, for $\\mathcal{X}$ identified by the $f_{c,r}$ of a ball, we can start with $\\sigma_0 = 1$ and consider the update $\\sigma_i = 2\\,\\sigma_{i-1}$. Then, in the general penalty function\n",
    "\\begin{equation} \\label{eq:p_x}\n",
    "p(x) = -(\\nabla f(x) + \\sigma_i \\,g(x)),\n",
    "\\end{equation}\n",
    "one needs to use the specific $g$ for the penalty method. For instance, \n",
    "\\begin{equation}\n",
    "g_{\\text{penalty}}(x) =                         \n",
    "\\left\\{\n",
    "\\begin{array}{ll}\n",
    "      2 \\, f_{c,r}(x) \\, \\nabla f_{c,r}(x), & f_{c,r}(x) > 0, \\\\\n",
    "      0, & f_{c,r}(x) \\leq 0.\n",
    "\\end{array} \n",
    "\\right. \n",
    "\\end{equation}\n",
    "At each inner iteration we get\n",
    "- $x = x + h \\,\\Delta x$      \n",
    "- $\\Delta x = p(x)$.\n",
    "\n",
    "### Barrier (or interior-point) method\n",
    "\n",
    "For this approach, we can follow exactly the same framework defined above. The steps for updating $x$ and $\\Delta x$ in each inner iteration are also the same. The difference to the penalty method, though, is that (due to the different $g$) $\\sigma$ decreases throughout rounds: we can start with $\\sigma_0 = 100$ and use the update $\\sigma_i = \\frac{1}{2}\\,\\sigma_{i-1}$. Finally, the $g$ that should be used is the following:\n",
    "\\begin{equation}\n",
    "g_{\\text{barrier}}(x) = -\\frac{\\nabla f_{c,r}(x)}{f_{c,r}(x)}.\n",
    "\\end{equation}\n",
    "\n",
    "### Implementation\n",
    "\n",
    "First, let's extend the ``ball_constraint`` section we saw earlier by including the two functions, $g_{\\text{penalty}}$ and $g_{\\text{update}}$.\n"
   ]
  },
  {
   "cell_type": "code",
   "execution_count": null,
   "metadata": {},
   "outputs": [],
   "source": [
    "# Feasible set in an Euclidean ball\n",
    "\n",
    "def ball_constraint(center, radius):\n",
    "    ... <ball, ball_grad, ball_proj, as before> ... <TODO>\n",
    "                \n",
    "    def g_penalty(x):\n",
    "        <TODO>\n",
    "\n",
    "    def g_barrier(x):\n",
    "        <TODO>\n",
    "    \n",
    "    return ball, ball_grad, ball_proj, g_penalty, g_barrier"
   ]
  },
  {
   "cell_type": "markdown",
   "metadata": {},
   "source": [
    "Then, add the two following functions that apply the respective updates to $\\sigma_{i+1}$. These will be called in each round."
   ]
  },
  {
   "cell_type": "code",
   "execution_count": null,
   "metadata": {},
   "outputs": [],
   "source": [
    "# Special functions for the penalty and barrier methods\n",
    "\n",
    "def sigma_update_penalty(sigma):\n",
    "    <TODO>\n",
    "                \n",
    "def sigma_update_barrier(sigma):\n",
    "    <TODO>"
   ]
  },
  {
   "cell_type": "markdown",
   "metadata": {},
   "source": [
    "Now, fill the (``<TODO>``) parts in the following function; it is a general optimizer that can apply any of the two augmented Lagrangian-like methods we have seen (i.e. the penalty of the barrier methods). Note that there is a nested loop: the outer one represents one round that first sets/updates the $\\sigma_i$ and then the inner (sub)iterations take over to perform the unconstrained optimization. The solution of one round will be the initialization point of the the next one."
   ]
  },
  {
   "cell_type": "code",
   "execution_count": null,
   "metadata": {},
   "outputs": [],
   "source": [
    "# A general optimizer: it can implement the penalty and barrier methods\n",
    "\n",
    "def general_optimizer(f, grad, x0, iterations, iterations_sub, error_point, error_grad, sigma0, sigma_update, grad_fun, hstep):\n",
    "    # Memory allocation\n",
    "    dim = np.max(np.shape(x0))\n",
    "    x_list = np.zeros([dim, iterations])\n",
    "    f_list = np.zeros(iterations)\n",
    "    error_point_list = np.zeros(iterations)\n",
    "    error_grad_list = np.zeros(iterations)\n",
    "    \n",
    "    # Initialization\n",
    "    x = x0\n",
    "    x_old = np.copy(x)\n",
    "    grad_x = grad(x)\n",
    "    d_x = -grad_x\n",
    "    f_x = f(x)\n",
    "    \n",
    "    # Iterative optimization\n",
    "    sigma = <TODO>\n",
    "    for i in range(iterations):\n",
    "        sigma = <TODO>          # update $\\sigma_i$\n",
    "        # solve iteratively the unconstrained problem $P(\\sigma_i)$\n",
    "        for k in range(iterations_sub):\n",
    "            <TODO>\n",
    "                                                \n",
    "            # Log results\n",
    "            x_list[:, i] = np.reshape(x, -1)\n",
    "            f_list[i] = f_x\n",
    "            error_point_list[i] = np.linalg.norm(x - x_old)\n",
    "            error_grad_list[i] = np.linalg.norm(grad(x))\n",
    "\n",
    "            if <TODO>    # termination condition\n",
    "                break\n",
    "            x_old = np.copy(x)\n",
    "\n",
    "    return {'x_list': x_list[:, 0:i], 'f_list': f_list[0:i], 'error_point_list': error_point_list[0:i], 'error_grad_list': error_grad_list[0:i]}"
   ]
  },
  {
   "cell_type": "markdown",
   "metadata": {},
   "source": [
    "The following functions allow you to report formatted optimization results."
   ]
  },
  {
   "cell_type": "code",
   "execution_count": null,
   "metadata": {},
   "outputs": [],
   "source": [
    "# Function to output formatted results\n",
    "\n",
    "def show_results(method_name, results): \n",
    "    print(f'\\n*** {method_name}')\n",
    "    print(f'number iterations: {len(result['x_list'][0, :])+1}')\n",
    "    print(f'end value (function): {result['f_list'][-1]}')\n",
    "    print(f'end position: {result['x_list'][:, -1]}')"
   ]
  },
  {
   "cell_type": "markdown",
   "metadata": {},
   "source": []
  },
  {
   "cell_type": "markdown",
   "metadata": {},
   "source": [
    "## Constrained optimization in action\n",
    "\n",
    "### Sanity check with constraints inside an Euclidean ball\n",
    "\n",
    "At this\n",
    "point you need to do a 'sanity check' to check if the coded methods are\n",
    "correct. The setup is to optimize an easy quadratic function. After filling the\n",
    "little missing (``<TODO>``) parts, when you run the following code, you\n",
    "can see all methods converging to the value 0.25. What do you observe in the\n",
    "results you obtain?"
   ]
  },
  {
   "cell_type": "code",
   "execution_count": null,
   "metadata": {},
   "outputs": [],
   "source": [
    "# Sanity check for constraints inside a ball\n",
    "\n",
    "# Setup: optimize a quadratic function\n",
    "f, grad = mk_quad(1, 5)\n",
    "x0 = np.array([1, .25])\n",
    "error_point = 10**-10\n",
    "error_grad = 10**-10\n",
    "\n",
    "constraint_fun, _, constraint_proj, g_penalty, g_barrier = ball_constraint(np.array([1, 0]), 0.5)\n",
    "\n",
    "iterations = 1000\n",
    "hstep = 10**(-2)\n",
    "\n",
    "result = proj_grad(f, grad, x0, iterations, error_point, error_grad, constraint_proj, hstep)\n",
    "show_results('Projected gradient method', result)\n",
    "\n",
    "#--\n",
    "iterations_sub = iterations\n",
    "iterations = 20\n",
    "hstep = 10**(-4)\n",
    "\n",
    "sigma0 = <TODO>\n",
    "result = general_optimizer(f, grad, x0, iterations, iterations_sub, error_point, error_grad, sigma0, <TODO>, <TODO>, hstep)\n",
    "show_results('Penalty method', result) \n",
    "\n",
    "sigma0 = <TODO>\n",
    "result = general_optimizer(f, grad, x0, iterations, iterations_sub, error_point, error_grad, sigma0, <TODO>, <TODO>, hstep)\n",
    "show_results('Barrier method', result)"
   ]
  },
  {
   "cell_type": "markdown",
   "metadata": {},
   "source": []
  },
  {
   "cell_type": "markdown",
   "metadata": {},
   "source": [
    "Try to repeat all the above for the Rosenbrock's banana function, and let the methods start at $x_0 = [1.1, 2.1]$. What do you observe?"
   ]
  },
  {
   "cell_type": "markdown",
   "metadata": {},
   "source": []
  },
  {
   "cell_type": "markdown",
   "metadata": {},
   "source": [
    "### Solving a problem with a complex feasibility set\n",
    "\n",
    "Suppose the feasibility set is the non-empty intersection between two balls of radius 0.5 and centers [1, 0] and [1, 0.5], respectively. Fill the (``<TODO>``) parts in the following code and report your observations. Note that in the reported results it is shown the evaluation of the two constraint functions at the final point, that is ball$_1(x^*)$ and ball$_2(x^*)$ (see the definition of the ball $f_{c,r}$ above)."
   ]
  },
  {
   "cell_type": "code",
   "execution_count": null,
   "metadata": {},
   "outputs": [],
   "source": [
    "# A more complex example: feasible set at the intersection of two balls\n",
    "\n",
    "# Get a different constraint set for each ball\n",
    "constraint_fun1, _, _, g_penalty1, g_barrier1 = ball_constraint(<TODO>)\n",
    "constraint_fun2, _, _, g_penalty2, g_barrier2 = ball_constraint(<TODO>)\n",
    "\n",
    "# Redefine the external penalty functions\n",
    "def g_penalty(x):\n",
    "    return g_penalty1(x) + g_penalty2(x)\n",
    "\n",
    "def g_barrier(x):\n",
    "    return g_barrier1(x) + g_barrier2(x)\n",
    "\n",
    "iterations = 20\n",
    "iterations_sub = 1000\n",
    "hstep = 10**(-5)\n",
    "\n",
    "sigma0 = <TODO>\n",
    "result = general_optimizer(<TODO>)\n",
    "show_results('Penalty method', result)\n",
    "print(f'constraint 1; {constraint_fun1(result['x_list'][:, -1])}')\n",
    "print(f'constraint 2; {constraint_fun2(result['x_list'][:, -1])}')\n",
    "\n",
    "sigma0 = <TODO>\n",
    "result = general_optimizer(<TODO>)\n",
    "show_results('Barrier method', result)\n",
    "print(f'constraint 1; {constraint_fun1(result['x_list'][:, -1])}')\n",
    "print(f'constraint 2; {constraint_fun2(result['x_list'][:, -1])}')"
   ]
  },
  {
   "cell_type": "markdown",
   "metadata": {},
   "source": []
  }
 ],
 "metadata": {
  "kernelspec": {
   "display_name": "Python 3",
   "language": "python",
   "name": "python3"
  },
  "language_info": {
   "codemirror_mode": {
    "name": "ipython",
    "version": 3
   },
   "file_extension": ".py",
   "mimetype": "text/x-python",
   "name": "python",
   "nbconvert_exporter": "python",
   "pygments_lexer": "ipython3",
   "version": "3.7.3"
  }
 },
 "nbformat": 4,
 "nbformat_minor": 4
}
